{
 "cells": [
  {
   "cell_type": "code",
   "execution_count": 18,
   "metadata": {},
   "outputs": [
    {
     "name": "stdout",
     "output_type": "stream",
     "text": "['False', 'None', 'True', 'and', 'as', 'assert', 'async', 'await', 'break', 'class', 'continue', 'def', 'del', 'elif', 'else', 'except', 'finally', 'for', 'from', 'global', 'if', 'import', 'in', 'is', 'lambda', 'nonlocal', 'not', 'or', 'pass', 'raise', 'return', 'try', 'while', 'with', 'yield']\n\nPassage\nHello Jupyter\n\n1\n3\n4\n7\n1\n[1, 3, 4, 7, 1]\n(1, 3, 4, 7, 6, 1)\n{1, 3, 4, 7}\n{'name': 'Aritra', 'role': 'programmer'}\nAritra programmer\n5\n5.0\n4\n"
    }
   ],
   "source": [
    "import keyword\n",
    "\n",
    "print(keyword.kwlist)\n",
    "\n",
    "# strings\n",
    "multiLineString = \"\"\"\n",
    "Passage\n",
    "Hello Jupyter\n",
    "\"\"\"\n",
    "\n",
    "print(multiLineString)\n",
    "\n",
    "# arrays, tuples and sets\n",
    "numbersList = [1,3,4,7,1] # mutable\n",
    "numbersTuple = (1,3,4,7,6,1) # immutable\n",
    "numbersSet = {1,3,4,7, 7,7} # unordered unique elements\n",
    "\n",
    "for number in numbersList: \n",
    "    print(number)\n",
    "\n",
    "print(numbersList)\n",
    "print(numbersTuple)\n",
    "print(numbersSet)\n",
    "\n",
    "# dictionaries\n",
    "\n",
    "dictionary = {\n",
    "    'name': 'Aritra', \n",
    "    'role': 'programmer'\n",
    "    }\n",
    "\n",
    "print(dictionary)\n",
    "print(dictionary['name'] + ' ' + dictionary['role'])\n",
    "\n",
    "# conversions\n",
    "\n",
    "print(str(5))\n",
    "print(float(5))\n",
    "print(int(\"4\"))\n"
   ]
  }
 ],
 "metadata": {
  "kernelspec": {
   "display_name": "Python 3",
   "language": "python",
   "name": "python3"
  },
  "language_info": {
   "codemirror_mode": {
    "name": "ipython",
    "version": 3
   },
   "file_extension": ".py",
   "mimetype": "text/x-python",
   "name": "python",
   "nbconvert_exporter": "python",
   "pygments_lexer": "ipython3",
   "version": "3.7.4"
  }
 },
 "nbformat": 4,
 "nbformat_minor": 2
}