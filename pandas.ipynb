{
 "nbformat": 4,
 "nbformat_minor": 2,
 "metadata": {
  "language_info": {
   "name": "python",
   "codemirror_mode": {
    "name": "ipython",
    "version": 3
   },
   "version": "3.7.4"
  },
  "orig_nbformat": 2,
  "file_extension": ".py",
  "mimetype": "text/x-python",
  "name": "python",
  "npconvert_exporter": "python",
  "pygments_lexer": "ipython3",
  "version": 3
 },
 "cells": [
  {
   "cell_type": "code",
   "execution_count": 2,
   "metadata": {},
   "outputs": [
    {
     "name": "stdout",
     "output_type": "stream",
     "text": "3      1/4/2016\n4      1/5/2016\n17    1/18/2016\n18    1/19/2016\nName: EST, dtype: object\n"
    }
   ],
   "source": [
    "import pandas as pd\n",
    "\n",
    "df = pd.read_csv('./resources/weather.csv')\n",
    "\n",
    "# filtering\n",
    "# define cold days\n",
    "coldDays = df['EST'][df['Temperature'] <= 25]\n",
    "print(coldDays)\n"
   ]
  },
  {
   "cell_type": "code",
   "execution_count": 3,
   "metadata": {},
   "outputs": [
    {
     "name": "stdout",
     "output_type": "stream",
     "text": "EST  Temperature  DewPoint  Humidity  Sea Level PressureIn  \\\n9  1/10/2016           50        46        71                 29.59   \n\n   VisibilityMiles  WindSpeedMPH PrecipitationIn  CloudCover Events  \\\n9                4           NaN             1.8           7   Rain   \n\n   WindDirDegrees  \n9             109  \n"
    }
   ],
   "source": [
    "# find days with max temp\n",
    "daysWithMaxHeat = df[df['Temperature'] == df['Temperature'].max()]\n",
    "print(daysWithMaxHeat)\n"
   ]
  },
  {
   "cell_type": "code",
   "execution_count": 6,
   "metadata": {},
   "outputs": [
    {
     "name": "stdout",
     "output_type": "stream",
     "text": "34.67741935483871\ncount    31.000000\nmean     34.677419\nstd       7.639315\nmin      20.000000\n25%      29.000000\n50%      35.000000\n75%      39.500000\nmax      50.000000\nName: Temperature, dtype: float64\n"
    }
   ],
   "source": [
    "# max, mean, mon etc\n",
    "meanTemp = df['Temperature'].mean() \n",
    "print(meanTemp)\n",
    "print(df['Temperature'].describe())\n"
   ]
  },
  {
   "cell_type": "code",
   "execution_count": 10,
   "metadata": {},
   "outputs": [
    {
     "name": "stdout",
     "output_type": "stream",
     "text": "Index(['EST', 'Temperature', 'DewPoint', 'Humidity', 'Sea Level PressureIn',\n       'VisibilityMiles', 'WindSpeedMPH', 'PrecipitationIn', 'CloudCover',\n       'Events', 'WindDirDegrees'],\n      dtype='object')\n0    23\n1    18\n2    21\n3     9\n4    -3\nName: DewPoint, dtype: int64\n        EST Events\n0  1/1/2016    NaN\n1  1/2/2016    NaN\n2  1/3/2016    NaN\n3  1/4/2016    NaN\n4  1/5/2016    NaN\n"
    }
   ],
   "source": [
    "# general useful features\n",
    "print(df.columns)\n",
    "print(df.DewPoint.head())\n",
    "print(df[['EST', 'Events']].head())\n"
   ]
  },
  {
   "cell_type": "code",
   "execution_count": 16,
   "metadata": {},
   "outputs": [
    {
     "name": "stdout",
     "output_type": "stream",
     "text": "g1   name  value\n0   g1      1\n2   g1      3\n3   g1      4\n4   g1      5\ng2   name  value\n1   g2      2\n5   g2      6\n6   g2      7\n      value\nname       \ng1        5\ng2        7\n      value\nname       \ng1     3.25\ng2     5.00\n"
    }
   ],
   "source": [
    "df = pd.read_csv('./resources/group.csv')\n",
    "\n",
    "grouped_data = df.groupby('name')\n",
    "\n",
    "for name, value in grouped_data:\n",
    "    print(name, value)\n",
    "\n",
    "print(grouped_data.max())\n",
    "print(grouped_data.mean())\n"
   ]
  },
  {
   "cell_type": "code",
   "execution_count": 21,
   "metadata": {},
   "outputs": [
    {
     "name": "stdout",
     "output_type": "stream",
     "text": "group  value name\n0    g1      1   a1\n1    g2      2   a2\n2    g3      3   a3\n3    g4      4   a4\n4    g5      5   a5\n5    g6      6   a6\n"
    }
   ],
   "source": [
    "# example for concat, mereg etc\n",
    "\n",
    "sample_dataframe1 = pd.DataFrame({\n",
    "    \"group\": [\"g1\", \"g2\", \"g3\"],\n",
    "    \"value\": [1,2,3]\n",
    "})\n",
    "\n",
    "sample_dataframe2 = pd.DataFrame({\n",
    "    \"group\": [\"g4\", \"g5\", \"g6\"],\n",
    "    \"value\": [4,5,6]\n",
    "})\n",
    "\n",
    "joint_data = pd.concat([sample_dataframe1, sample_dataframe2],ignore_index=True)\n",
    "sample_dataframe3 = pd.DataFrame({\n",
    "    \"group\": [\"g1\", \"g2\", \"g3\", \"g4\", \"g5\", \"g6\"],\n",
    "    \"name\": [\"a1\", \"a2\", \"a3\", \"a4\", \"a5\", \"a6\"]\n",
    "})\n",
    "joint_data = pd.merge(joint_data, sample_dataframe3)\n",
    "\n",
    "print(joint_data)"
   ]
  },
  {
   "cell_type": "code",
   "execution_count": null,
   "metadata": {},
   "outputs": [],
   "source": []
  }
 ]
}