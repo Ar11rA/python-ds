{
 "nbformat": 4,
 "nbformat_minor": 2,
 "metadata": {
  "language_info": {
   "name": "python",
   "codemirror_mode": {
    "name": "ipython",
    "version": 3
   },
   "version": "3.7.4"
  },
  "orig_nbformat": 2,
  "file_extension": ".py",
  "mimetype": "text/x-python",
  "name": "python",
  "npconvert_exporter": "python",
  "pygments_lexer": "ipython3",
  "version": 3
 },
 "cells": [
  {
   "cell_type": "code",
   "execution_count": 3,
   "metadata": {},
   "outputs": [
    {
     "name": "stdout",
     "output_type": "stream",
     "text": "[5]\n[1 2 3]\n32\n[[1 2 3]\n [4 5 6]]\n[[1 4]\n [2 5]\n [3 6]]\n[[5 7 9]\n [5 7 9]]\n[[-3 -3 -3]\n [ 3  3  3]]\n[[ 4 10 18]\n [ 4 10 18]]\n[[27 33]\n [63 78]]\n[[[ 1  2  3]\n  [ 4  5  6]]\n\n [[ 7  8  9]\n  [10 11 12]]]\n"
    }
   ],
   "source": [
    "import numpy as np\n",
    "\n",
    "scalar = 5\n",
    "scalar_arr = np.array([5])\n",
    "\n",
    "print(scalar_arr)\n",
    "\n",
    "vector = np.array([1,2,3])\n",
    "another_vector = np.array([4,5,6])\n",
    "\n",
    "print(vector)\n",
    "print(np.dot(vector, another_vector))\n",
    "\n",
    "matrix = np.array([[1,2,3], [4,5,6]]) # 2 by 3\n",
    "\n",
    "print(matrix)\n",
    "print(matrix.T)\n",
    "\n",
    "another_matrix = np.array([[4,5,6], [1,2,3]]) # 2 by 3\n",
    "yet_another_matrix = np.array([[4,5], [1,2], [7,8]]) # 3 by 2 (needed for dot product)\n",
    "\n",
    "print(matrix + another_matrix)\n",
    "print(matrix - another_matrix)\n",
    "print(matrix * another_matrix)\n",
    "print(np.dot(matrix, yet_another_matrix))\n",
    "\n",
    "\n",
    "tensor = np.array([[[1,2,3], [4,5,6]], [[7,8,9], [10,11,12]]])\n",
    "\n",
    "print(tensor)"
   ]
  },
  {
   "cell_type": "code",
   "execution_count": 10,
   "metadata": {},
   "outputs": [
    {
     "name": "stdout",
     "output_type": "stream",
     "text": "250\n200\n150\n100\n50\n[[250]\n [200]\n [150]\n [100]\n [ 50]]\n"
    }
   ],
   "source": [
    "# problem\n",
    "\n",
    "# lets say happiness quotient can be calulated as 300 - 50d where d = number of work days\n",
    "\n",
    "# for 5 people, d = 10 20 30 15 25\n",
    "\n",
    "# programming solution\n",
    "\n",
    "d = np.array([10,20,30,40,50])\n",
    "\n",
    "for i in range(5):\n",
    "    print(300 - 5 * d[i])\n",
    "\n",
    "# linear algebra solution\n",
    "\n",
    "d = np.array([[1, 10],[1, 20],[1, 30],[1, 40],[1, 50]])\n",
    "\n",
    "equation = np.array([[300], [-5]])\n",
    "\n",
    "print(np.dot(d, equation))\n",
    " "
   ]
  }
 ]
}