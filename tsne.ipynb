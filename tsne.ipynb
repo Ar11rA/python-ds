{
 "nbformat": 4,
 "nbformat_minor": 2,
 "metadata": {
  "language_info": {
   "name": "python",
   "codemirror_mode": {
    "name": "ipython",
    "version": 3
   },
   "version": "3.7.4"
  },
  "orig_nbformat": 2,
  "file_extension": ".py",
  "mimetype": "text/x-python",
  "name": "python",
  "npconvert_exporter": "python",
  "pygments_lexer": "ipython3",
  "version": 3
 },
 "cells": [
  {
   "cell_type": "code",
   "execution_count": 8,
   "metadata": {},
   "outputs": [
    {
     "name": "stdout",
     "output_type": "stream",
     "text": "Dim_1      Dim_2  label\n0 -14.042173  42.717266    5.0\n1  26.715950  37.086666    0.0\n2   6.574331 -47.789955    4.0\n3  -3.029597  -0.161555    1.0\n4 -24.793865 -35.305588    9.0\n5  21.309284 -27.561640    2.0\n6   9.579203 -19.635582    1.0\n7  -7.840230  37.418087    3.0\n8   6.167553 -17.247726    1.0\n9 -17.009663 -16.204203    4.0\n"
    }
   ],
   "source": [
    "# TSNE\n",
    "import pandas as pd\n",
    "import numpy as np\n",
    "from sklearn.manifold import TSNE\n",
    "from sklearn.preprocessing import StandardScaler\n",
    "\n",
    "df = pd.read_csv('../python-ds-resources/mnist_train.csv')\n",
    "l = df['label']\n",
    "labels = l.head(15000)\n",
    "d = df.drop(\"label\", axis=1)\n",
    "data = d.head(15000)\n",
    "standardized_data = StandardScaler().fit_transform(data)\n",
    "data_1000 = standardized_data[0:1000,:]\n",
    "labels_1000 = labels[0:1000]\n",
    "\n",
    "model = TSNE(n_components=2, random_state=0)\n",
    "tsne_data = model.fit_transform(data_1000)\n",
    "tsne_data = np.vstack((tsne_data.T, labels_1000)).T\n",
    "tsne_df = pd.DataFrame(data=tsne_data, columns=(\"Dim_1\", \"Dim_2\", \"label\"))\n",
    "print(tsne_df.head(10))"
   ]
  },
  {
   "cell_type": "code",
   "execution_count": null,
   "metadata": {},
   "outputs": [],
   "source": []
  }
 ]
}