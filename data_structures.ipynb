{
 "cells": [
  {
   "cell_type": "code",
   "execution_count": 7,
   "metadata": {},
   "outputs": [
    {
     "name": "stdout",
     "output_type": "stream",
     "text": "[10, 6, 4, 3, 2, 100, 200, 300]\n"
    }
   ],
   "source": [
    "numbers = [10,2,4,6,3]\n",
    "numbers.sort()\n",
    "numbers.reverse()\n",
    "extension = [100,200]\n",
    "extension.append(300)\n",
    "numbers.extend(extension)\n",
    "print(numbers)\n"
   ]
  },
  {
   "cell_type": "code",
   "execution_count": 9,
   "metadata": {},
   "outputs": [
    {
     "name": "stdout",
     "output_type": "stream",
     "text": "{'name': 'Luke Flynn', 'team': 'Barnsley Rovers', 'attributes': {'attacking': '14', 'defending': '17', 'mentality': '18', 'adaptability': '20'}}\ndict_keys(['name', 'team', 'attributes'])\ndict_values(['Luke Flynn', 'Barnsley Rovers', {'attacking': '14', 'defending': '17', 'mentality': '18', 'adaptability': '20'}])\nname is Luke Flynn\nteam is Barnsley Rovers\nattributes is {'attacking': '14', 'defending': '17', 'mentality': '18', 'adaptability': '20'}\n"
    }
   ],
   "source": [
    "details = {\n",
    "    \"name\": \"Luke Flynn\",\n",
    "    \"team\": \"Barnsley Rovers\",\n",
    "    \"attributes\": {\n",
    "        \"attacking\": \"14\",\n",
    "        \"defending\": \"17\",\n",
    "        \"mentality\": \"18\",\n",
    "        \"adaptability\": \"20\"\n",
    "    } \n",
    "}\n",
    "\n",
    "print(details)\n",
    "print(details.keys())\n",
    "print(details.values())\n",
    "\n",
    "for k,v in details.items():\n",
    "    print(\"{0} is {1}\".format(k,v))\n"
   ]
  }
 ],
 "metadata": {
  "kernelspec": {
   "display_name": "Python 3",
   "language": "python",
   "name": "python3"
  },
  "language_info": {
   "codemirror_mode": {
    "name": "ipython",
    "version": 3
   },
   "file_extension": ".py",
   "mimetype": "text/x-python",
   "name": "python",
   "nbconvert_exporter": "python",
   "pygments_lexer": "ipython3",
   "version": "3.7.4"
  }
 },
 "nbformat": 4,
 "nbformat_minor": 2
}