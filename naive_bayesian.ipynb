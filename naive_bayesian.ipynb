{
 "nbformat": 4,
 "nbformat_minor": 2,
 "metadata": {
  "language_info": {
   "name": "python",
   "codemirror_mode": {
    "name": "ipython",
    "version": 3
   },
   "version": "3.7.4"
  },
  "orig_nbformat": 2,
  "file_extension": ".py",
  "mimetype": "text/x-python",
  "name": "python",
  "npconvert_exporter": "python",
  "pygments_lexer": "ipython3",
  "version": 3
 },
 "cells": [
  {
   "cell_type": "code",
   "execution_count": 10,
   "metadata": {},
   "outputs": [],
   "source": [
    "weather=['Sunny','Sunny','Overcast','Rainy','Rainy','Rainy','Overcast','Sunny','Sunny',\n",
    "'Rainy','Sunny','Overcast','Overcast','Rainy']\n",
    "temp=['Hot','Hot','Hot','Mild','Cool','Cool','Cool','Mild','Cool','Mild','Mild','Mild','Hot','Mild']\n",
    "play=['No','No','Yes','Yes','Yes','No','Yes','No','Yes','Yes','Yes','Yes','Yes','No']\n"
   ]
  },
  {
   "cell_type": "code",
   "execution_count": 28,
   "metadata": {},
   "outputs": [
    {
     "name": "stdout",
     "output_type": "stream",
     "text": "[2 2 0 1 1 1 0 2 2 1 2 0 0 1] [0 0 1 1 1 0 1 0 1 1 1 1 1 0]\n[(2, 1), (2, 1), (0, 1), (1, 2), (1, 0), (1, 0), (0, 0), (2, 2), (2, 0), (1, 2), (2, 2), (0, 2), (0, 1), (1, 2)]\n"
    }
   ],
   "source": [
    "from sklearn import preprocessing\n",
    "#creating labelEncoder\n",
    "le = preprocessing.LabelEncoder()\n",
    "# Converting string labels into numbers.\n",
    "weather_encoded = le.fit_transform(weather)\n",
    "temp_encoded = le.fit_transform(temp)\n",
    "label = le.fit_transform(play)\n",
    "print(weather_encoded, label)\n",
    "features = zip(weather_encoded, temp_encoded)\n",
    "features_list = list(features)\n",
    "print(features_list)\n"
   ]
  },
  {
   "cell_type": "code",
   "execution_count": 29,
   "metadata": {},
   "outputs": [
    {
     "name": "stdout",
     "output_type": "stream",
     "text": "Predicted Value: [1]\n"
    }
   ],
   "source": [
    "# scikit implementation\n",
    "from sklearn.naive_bayes import GaussianNB\n",
    "\n",
    "#Create a Gaussian Classifier\n",
    "model = GaussianNB()\n",
    "\n",
    "# Train the model using the training sets\n",
    "model.fit(features_list, label)\n",
    "\n",
    "#Predict Output\n",
    "predicted= model.predict([[0,2]]) # 0:Overcast, 2:Mild\n",
    "print(\"Predicted Value:\", predicted)"
   ]
  },
  {
   "cell_type": "code",
   "execution_count": 95,
   "metadata": {},
   "outputs": [],
   "source": [
    "# basic implementation\n",
    "\n",
    "# equivalent to \"fit\" in sklearn\n",
    "# store P(C)\n",
    "unique_classes = set(play)\n",
    "probability_classes = [(x, play.count(x)) for x in unique_classes]\n",
    "\n",
    "# find P(f1/C), P(f2/C) etc\n",
    "unique_temp = set(temp)\n",
    "unique_weather = set(weather)\n",
    "input_data_set = list(zip(temp, weather, play))\n",
    "def calc_probablity_by_feature(feature, index):\n",
    "    feature_map = dict()\n",
    "    for classification in list(unique_classes):\n",
    "        ctr = 0\n",
    "        for data in input_data_set:\n",
    "            if data[2] == classification:\n",
    "                if data[index] == feature:\n",
    "                    ctr = ctr + 1\n",
    "        feature_map[classification] = ctr\n",
    "    return feature_map\n"
   ]
  },
  {
   "cell_type": "code",
   "execution_count": 96,
   "metadata": {},
   "outputs": [
    {
     "name": "stdout",
     "output_type": "stream",
     "text": "Yes\n"
    }
   ],
   "source": [
    "# equivalent to \"predict\" in sklearn\n",
    "# final values for count required for probability calculations\n",
    "temp_map = calc_probablity_by_feature('Mild', 0)\n",
    "weather_map = calc_probablity_by_feature('Overcast', 1)\n",
    "conditional_probability_features = []\n",
    "probability_classes_map = dict(probability_classes)\n",
    "\n",
    "# get final class\n",
    "max_val = 0.0\n",
    "max_class = \"\"\n",
    "for classification in list(unique_classes):\n",
    "    weather_prob = weather_map[classification]/probability_classes_map[classification] \n",
    "    temp_prob = temp_map[classification]/probability_classes_map[classification]\n",
    "    classification_prob = probability_classes_map[classification]/len(play)\n",
    "    prob_curr_class = classification_prob * weather_prob * temp_prob\n",
    "    if max_val <= prob_curr_class:\n",
    "        max_val = prob_curr_class\n",
    "        max_class = classification\n",
    "\n",
    "print(max_class)\n",
    "\n"
   ]
  }
 ]
}