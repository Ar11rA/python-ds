{
 "nbformat": 4,
 "nbformat_minor": 2,
 "metadata": {
  "language_info": {
   "name": "python",
   "codemirror_mode": {
    "name": "ipython",
    "version": 3
   },
   "version": "3.7.4"
  },
  "orig_nbformat": 2,
  "file_extension": ".py",
  "mimetype": "text/x-python",
  "name": "python",
  "npconvert_exporter": "python",
  "pygments_lexer": "ipython3",
  "version": 3
 },
 "cells": [
  {
   "cell_type": "code",
   "execution_count": 8,
   "metadata": {},
   "outputs": [
    {
     "name": "stdout",
     "output_type": "stream",
     "text": "568454\n393933\n69 % of data cleaned!\n250962\n['I have bought several of the Vitality canned dog food products and have found them all to be of good quality. The product looks more like a stew than a processed meat and it smells better. My Labrador is finicky and she appreciates this product better than  most.'\n 'Great taffy at a great price.  There was a wide assortment of yummy taffy.  Delivery was very quick.  If your a taffy lover, this is a deal.'\n \"This saltwater taffy had great flavors and was very soft and chewy.  Each candy was individually wrapped well.  None of the candies were stuck together, which did happen in the expensive version, Fralinger's.  Would highly recommend this candy!  I served it at a beach-themed party and everyone loved it!\"\n ...\n 'These stars are small, so you can give 10-15 of those in one training session.  I tried to train our dog with \"Ceaser dog treats\",  it just made our puppy hyper.  If you compare the ingredients, you will know why.  Little stars has just basic food ingredients without any preservatives and food coloring.  Sweet potato flavor also did not make my hand smell like dog food.'\n 'These are the BEST treats for training and rewarding your dog for being good while grooming.  Lower in calories and loved by all the doggies.  Sweet potatoes seem to be their favorite Wet Noses treat!'\n 'I am very satisfied ,product is as advertised, I use it on cereal, with raw vinegar, and as a general sweetner.']\n"
    }
   ],
   "source": [
    "import pandas as pd\n",
    "import numpy as np\n",
    "\n",
    "# reading\n",
    "df = pd.read_csv('../amazon-fine-food-reviews/Reviews.csv')\n",
    "print(df.Id.count())\n",
    "\n",
    "# cleaning\n",
    "sorted_df = df.sort_values('ProductId', axis=0, ascending=True,inplace=False)\n",
    "dedupped_df = df.drop_duplicates(subset={\"UserId\", \"ProfileName\", \"Time\",\"Text\"},keep=\"first\", inplace=False)\n",
    "\n",
    "print(dedupped_df.Id.count())\n",
    "print(\"{} % of data cleaned!\".format(int(dedupped_df.Id.count()/df.Id.count() * 100) ))\n",
    "# filtering 5 star products\n",
    "five_rating_df = dedupped_df[dedupped_df['Score'] == 5]\n",
    "\n",
    "print(five_rating_df.Id.count())\n",
    "\n"
   ]
  },
  {
   "cell_type": "code",
   "execution_count": 13,
   "metadata": {},
   "outputs": [
    {
     "name": "stdout",
     "output_type": "stream",
     "text": "['all', 'and', 'appreciates', 'assortment', 'at', 'be', 'beach', 'better', 'bought', 'candies', 'candy', 'canned', 'chewy', 'deal', 'delivery', 'did', 'dog', 'each', 'everyone', 'expensive', 'finicky', 'flavors', 'food', 'found', 'fralinger', 'good', 'great', 'had', 'happen', 'have', 'highly', 'if', 'in', 'individually', 'is', 'it', 'labrador', 'like', 'looks', 'loved', 'lover', 'meat', 'more', 'most', 'my', 'none', 'of', 'party', 'price', 'processed', 'product', 'products', 'quality', 'quick', 'recommend', 'saltwater', 'served', 'several', 'she', 'smells', 'soft', 'stew', 'stuck', 'taffy', 'than', 'the', 'them', 'themed', 'there', 'this', 'to', 'together', 'version', 'very', 'vitality', 'was', 'well', 'were', 'which', 'wide', 'would', 'wrapped', 'your', 'yummy']\n[[1 3 1 0 0 1 0 2 1 0 0 1 0 0 0 0 1 0 0 0 1 0 1 1 0 1 0 0 0 2 0 0 0 0 1 1\n  1 1 1 0 0 1 1 1 1 0 2 0 0 1 2 1 1 0 0 0 0 1 1 1 0 1 0 0 2 2 1 0 0 1 1 0\n  0 0 1 0 0 0 0 0 0 0 0 0]\n [0 0 0 1 1 0 0 0 0 0 0 0 0 1 1 0 0 0 0 0 0 0 0 0 0 0 2 0 0 0 0 1 0 0 1 0\n  0 0 0 0 1 0 0 0 0 0 1 0 1 0 0 0 0 1 0 0 0 0 0 0 0 0 0 3 0 0 0 0 1 1 0 0\n  0 1 0 2 0 0 0 1 0 0 1 1]\n [0 3 0 0 1 0 1 0 0 1 2 0 1 0 0 1 0 1 1 1 0 1 0 0 1 0 1 1 1 0 1 0 1 1 0 2\n  0 0 0 1 0 0 0 0 0 1 1 1 0 0 0 0 0 0 1 1 1 0 0 0 1 0 1 1 0 2 0 1 0 2 0 1\n  1 1 0 2 1 1 1 0 1 1 0 0]]\n"
    }
   ],
   "source": [
    "# Bag of words\n",
    "from sklearn.feature_extraction.text import CountVectorizer\n",
    "\n",
    "vectorizer = CountVectorizer()\n",
    "vector_array = vectorizer.fit_transform(five_rating_df.head(3).Text.values)\n",
    "print(vectorizer.get_feature_names())\n",
    "print(vector_array.toarray())  "
   ]
  },
  {
   "cell_type": "code",
   "execution_count": null,
   "metadata": {},
   "outputs": [],
   "source": []
  }
 ]
}