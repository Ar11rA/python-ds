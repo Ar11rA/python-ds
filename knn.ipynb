{
 "nbformat": 4,
 "nbformat_minor": 2,
 "metadata": {
  "language_info": {
   "name": "python",
   "codemirror_mode": {
    "name": "ipython",
    "version": 3
   },
   "version": "3.7.4"
  },
  "orig_nbformat": 2,
  "file_extension": ".py",
  "mimetype": "text/x-python",
  "name": "python",
  "npconvert_exporter": "python",
  "pygments_lexer": "ipython3",
  "version": 3
 },
 "cells": [
  {
   "cell_type": "code",
   "execution_count": 60,
   "metadata": {},
   "outputs": [],
   "source": [
    "# Custom functions needed for K-NN\n",
    "\n",
    "import pandas as pd\n",
    "import numpy as np\n",
    "from math import sqrt\n",
    "\n",
    "def get_euclidean_distance(x1, y1, x2, y2):\n",
    "    distance = sqrt((x1-x2)**2 + (y1-y2)**2)\n",
    "    return distance\n",
    "\n",
    "def get_k_nearest_neighbours(k, df, x, y): \n",
    "    distances = []\n",
    "    for i in range(len(df)) : \n",
    "        x_df = df.iloc[i]['Sepal Length']\n",
    "        y_df = df.iloc[i]['Sepal Width']\n",
    "        distance = get_euclidean_distance(x, y, x_df, y_df)\n",
    "        distance_map = dict(\n",
    "            index = i,\n",
    "            type = df.iloc[i]['Species'],\n",
    "            distance = distance\n",
    "        )\n",
    "        distances.append(distance_map)\n",
    "    sorted_distances = sorted(distances, key=lambda i: i['distance'], reverse=False)\n",
    "    k_nearest_neighbours = list()\n",
    "    for i in range(k):\n",
    "        k_nearest_neighbours.append(sorted_distances[i])\n",
    "    return k_nearest_neighbours\n",
    "\n",
    "def get_types(nearest_neighbours):\n",
    "    types = list()\n",
    "    for i in range(len(nearest_neighbours)):\n",
    "        curr_neighbour_type = nearest_neighbours[i]['type']\n",
    "        types.append(curr_neighbour_type)\n",
    "    return types\n",
    "\n",
    "def get_majority(types):\n",
    "    return max(types ,key=types.count)\n"
   ]
  },
  {
   "cell_type": "code",
   "execution_count": 67,
   "metadata": {},
   "outputs": [
    {
     "name": "stdout",
     "output_type": "stream",
     "text": "['Iris-setosa', 'Iris-setosa', 'Iris-setosa']\nIris-setosa\n['Iris-virginica', 'Iris-virginica', 'Iris-virginica', 'Iris-setosa', 'Iris-setosa', 'Iris-setosa', 'Iris-virginica', 'Iris-virginica', 'Iris-versicolor', 'Iris-virginica']\nIris-virginica\n"
    }
   ],
   "source": [
    "# Sample implemenation on IRIS dataset\n",
    "\n",
    "iris_df = pd.read_csv('./resources/iris.csv')\n",
    "preprocessed_df = iris_df.drop(columns=['Petal Length', 'Petal Width'])\n",
    "\n",
    "nearest_neighbours = get_k_nearest_neighbours(3, preprocessed_df, 4.2, 9.1)\n",
    "closest_types = get_types(nearest_neighbours)\n",
    "print(closest_types)\n",
    "print(get_majority(closest_types))\n",
    "\n",
    "nearest_neighbours = get_k_nearest_neighbours(10, preprocessed_df, 9.2, 9.1)\n",
    "closest_types = get_types(nearest_neighbours)\n",
    "print(closest_types)\n",
    "print(get_majority(closest_types))\n"
   ]
  }
 ]
}