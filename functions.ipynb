{
 "nbformat": 4,
 "nbformat_minor": 2,
 "metadata": {
  "language_info": {
   "name": "python",
   "codemirror_mode": {
    "name": "ipython",
    "version": 3
   },
   "version": "3.7.4"
  },
  "orig_nbformat": 2,
  "file_extension": ".py",
  "mimetype": "text/x-python",
  "name": "python",
  "npconvert_exporter": "python",
  "pygments_lexer": "ipython3",
  "version": 3
 },
 "cells": [
  {
   "cell_type": "code",
   "execution_count": 4,
   "metadata": {},
   "outputs": [
    {
     "name": "stdout",
     "output_type": "stream",
     "text": "True\n\n    Checks if number is prime\n    \n"
    }
   ],
   "source": [
    "def is_prime(num): \n",
    "    \"\"\"\n",
    "    Checks if number is prime\n",
    "    \"\"\"\n",
    "    flag = True\n",
    "    for index in range(2, num-1):\n",
    "        if num % index == 0: \n",
    "            flag = False\n",
    "            break\n",
    "    return flag\n",
    "\n",
    "print(is_prime.__doc__)\n",
    "print(is_prime(31))\n"
   ]
  },
  {
   "cell_type": "code",
   "execution_count": 23,
   "metadata": {},
   "outputs": [
    {
     "name": "stdout",
     "output_type": "stream",
     "text": "[1, 4, 9, 16]\n10\n10\n[2, 4]\n"
    }
   ],
   "source": [
    "from functools import reduce\n",
    "\n",
    "numbers = [1,2,3,4]\n",
    "\n",
    "def sqaure(num):\n",
    "    \"\"\"\n",
    "    Squares a number\n",
    "    \"\"\"\n",
    "    return num ** 2\n",
    "\n",
    "def multiply(x,y):\n",
    "    \"\"\"\n",
    "    Multiplies 2 numbers x and y\n",
    "    \"\"\"\n",
    "    return x*y\n",
    "\n",
    "def add(x,y):\n",
    "    \"\"\"\n",
    "    Adds 2 numbers x and y\n",
    "    \"\"\"\n",
    "    return x+y\n",
    "\n",
    "squared = list(map(sqaure, numbers))\n",
    "print(squared)\n",
    "total = reduce(add, numbers)\n",
    "print(total)\n",
    "print(sum(numbers))\n",
    "print(list(filter(lambda x: x%2==0, numbers)))\n"
   ]
  },
  {
   "cell_type": "code",
   "execution_count": 21,
   "metadata": {},
   "outputs": [
    {
     "name": "stdout",
     "output_type": "stream",
     "text": "8\n"
    }
   ],
   "source": [
    "double = lambda x: x*2\n",
    "print(double(4))"
   ]
  },
  {
   "cell_type": "code",
   "execution_count": 19,
   "metadata": {},
   "outputs": [
    {
     "name": "stdout",
     "output_type": "stream",
     "text": "[0, 1, 1, 2, 3, 5, 8, 13, 21, 34, 55]\n"
    }
   ],
   "source": [
    "def fibonacci(n):\n",
    "    \"\"\"\n",
    "    Returns nth fibonacci number\n",
    "    \"\"\"\n",
    "    if n <= 1:\n",
    "        return 1\n",
    "    return fibonacci(n-1) + fibonacci(n-2)\n",
    "\n",
    "limit = 10\n",
    "numbers = [0]\n",
    "\n",
    "for index in range(0,10):\n",
    "    numbers.append(fibonacci(index))\n",
    "\n",
    "print(numbers)"
   ]
  }
 ]
}